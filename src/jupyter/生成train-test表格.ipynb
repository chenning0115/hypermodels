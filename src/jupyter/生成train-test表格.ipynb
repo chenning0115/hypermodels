{
 "cells": [
  {
   "cell_type": "code",
   "execution_count": 1,
   "id": "a05a3bbe",
   "metadata": {},
   "outputs": [],
   "source": [
    "import numpy as np\n",
    "import pandas as pd\n",
    "from scipy.io import loadmat\n",
    "import scipy.io as sio\n",
    "from sklearn.model_selection import train_test_split\n",
    "import random\n",
    "import tifffile as tiff\n",
    "import matplotlib.pyplot as plt\n",
    "import json\n",
    "import matplotlib.pyplot as plt\n",
    "import seaborn as sns\n",
    "%matplotlib inline\n",
    "import os, sys"
   ]
  },
  {
   "cell_type": "code",
   "execution_count": 8,
   "id": "d999eb53",
   "metadata": {},
   "outputs": [],
   "source": [
    "INDIAN_TARGET_NAMES = ['Alfalfa', 'CornMotill', 'CornMintill', 'Corn'\n",
    "            , 'GrassPasture', 'GrassTrees', 'GrassPastureMowed',\n",
    "                        'HayWindrowed', 'Oats', 'SoybeanNotill', 'SoybeanMintill',\n",
    "                        'SoybeanClean', 'Wheat', 'Woods', 'BuildingsGrassTreesDrives',\n",
    "                        'StoneSteelTowers']\n",
    "\n",
    "PAVIA_UNIVERSITY_NAMES =  ['Asphalt','Meadows','Gravel','Trees','PaintedMetalSheets','BareSoil','Bitumen','SelfBlockingBricks','Shadows']\n",
    "\n",
    "HOUSTION_NAMES = ['Healthy grass','Stressed grass','Synthetic grass','Trees','Soil','Water','Residential','Commercial','Road',\n",
    "                  'Highway','Railway','Parking Lot 1','Parking Lot 2','Tennis Court','Running Track']\n",
    "SALINAS_NAMES=['BrocoliGreenWeeds1','BrocoliGreenWeeds2','Fallow ','FallowRoughPlow','FallowSmooth',\n",
    "               'Stubble','Celery','GrapesUntrained','SoilVinyardDevelop','ComSenescedGreenWeeds','LettuceRomaine4wk',\n",
    "               'LettuceRomaine5wk','LettuceRomaine6wk','LettuceRomaine7wk','VinyardUntrained','VinyardVerticalTrellis']\n",
    "WH= ['Red roof' ,'Road' ,'Bare soil' ,'Cotton' ,'Cotton firewood' ,'Rape' ,'Chinese cabbage' ,'Pakchoi' ,'Cabbage' ,'Tuber mustard' ,'Brassica parachinensis' ,'Brassica chinensis' ,'Small Brassica chinensis' ,'Lactuca sativa' ,'Celtuce' ,'Film covered lettuce' ,'Romaine lettuce' ,'Carrot' ,'White radish' ,'Garlic sprout' ,'Broad bean' ,'Tree']"
   ]
  },
  {
   "cell_type": "code",
   "execution_count": 9,
   "id": "a3fb5acb",
   "metadata": {},
   "outputs": [],
   "source": [
    "# 开始画数据集的描述的表格\n",
    "data_prefix = '../../data/'\n",
    "def load_train_test(sign, num, names):\n",
    "    dataset_path = '%s/%s/%s_%s_split.mat' % (data_prefix, sign, sign, num)\n",
    "    class_num = len(names)\n",
    "    datamat = sio.loadmat(dataset_path)\n",
    "    data = datamat['input']\n",
    "    TE = datamat['TE'].reshape(-1)\n",
    "    TR = datamat['TR'].reshape(-1)\n",
    "    train = []\n",
    "    test = []\n",
    "    for i in range(class_num):\n",
    "        c = i + 1\n",
    "        train.append(TR[TR==c].size)\n",
    "        test.append(TE[TE==c].size)\n",
    "    return train, test\n",
    "\n",
    "info = {}\n",
    "signs = ['Indian', 'Pavia', 'WH']\n",
    "num = 10\n",
    "names = [INDIAN_TARGET_NAMES, PAVIA_UNIVERSITY_NAMES, WH]\n",
    "for sign, name in zip(signs, names):\n",
    "    train, test = load_train_test(sign, num, name)\n",
    "    info[sign] = {\n",
    "        'name':name,\n",
    "        'train':train,\n",
    "        'test':test\n",
    "    }\n"
   ]
  },
  {
   "cell_type": "code",
   "execution_count": 10,
   "id": "547e11ad",
   "metadata": {},
   "outputs": [
    {
     "name": "stdout",
     "output_type": "stream",
     "text": [
      "1  &  Alfalfa  &  10  &  36  &  Asphalt  &  10  &  6621  &  Red roof  &  10  &  14031  \\\\  2  &  CornMotill  &  10  &  1418  &  Meadows  &  10  &  18639  &  Road  &  10  &  3502  \\\\  3  &  CornMintill  &  10  &  820  &  Gravel  &  10  &  2089  &  Bare soil  &  10  &  21811  \\\\  4  &  Corn  &  10  &  227  &  Trees  &  10  &  3054  &  Cotton  &  10  &  163275  \\\\  5  &  GrassPasture  &  10  &  473  &  PaintedMetalSheets  &  10  &  1335  &  Cotton firewood  &  10  &  6208  \\\\  6  &  GrassTrees  &  10  &  720  &  BareSoil  &  10  &  5019  &  Rape  &  10  &  44547  \\\\  7  &  GrassPastureMowed  &  10  &  18  &  Bitumen  &  10  &  1320  &  Chinese cabbage  &  10  &  24093  \\\\  8  &  HayWindrowed  &  10  &  468  &  SelfBlockingBricks  &  10  &  3672  &  Pakchoi  &  10  &  4044  \\\\  9  &  Oats  &  10  &  10  &  Shadows  &  10  &  937  &  Cabbage  &  10  &  10809  \\\\  10  &  SoybeanNotill  &  10  &  962  &     &     &     &  Tuber mustard  &  10  &  12384  \\\\  11  &  SoybeanMintill  &  10  &  2445  &     &     &     &  Brassica parachinensis  &  10  &  11005  \\\\  12  &  SoybeanClean  &  10  &  583  &     &     &     &  Brassica chinensis  &  10  &  8944  \\\\  13  &  Wheat  &  10  &  195  &     &     &     &  Small Brassica chinensis  &  10  &  22497  \\\\  14  &  Woods  &  10  &  1255  &     &     &     &  Lactuca sativa  &  10  &  7346  \\\\  15  &  BuildingsGrassTreesDrives  &  10  &  376  &     &     &     &  Celtuce  &  10  &  992  \\\\  16  &  StoneSteelTowers  &  10  &  83  &     &     &     &  Film covered lettuce  &  10  &  7252  \\\\  17  &     &     &     &     &     &     &  Romaine lettuce  &  10  &  3000  \\\\  18  &     &     &     &     &     &     &  Carrot  &  10  &  3207  \\\\  19  &     &     &     &     &     &     &  White radish  &  10  &  8702  \\\\  20  &     &     &     &     &     &     &  Garlic sprout  &  10  &  3476  \\\\  21  &     &     &     &     &     &     &  Broad bean  &  10  &  1318  \\\\  22  &     &     &     &     &     &     &  Tree  &  10  &  4030  \\\\     &  Total  &  160  &  10089  &  Total  &  90  &  42686  &  Total  &  220  &  386473\n"
     ]
    }
   ],
   "source": [
    "max_index = 22\n",
    "\n",
    "ss_list = []\n",
    "for i in range(max_index):\n",
    "    ll = []\n",
    "    ss = \"\"\n",
    "    c = i + 1\n",
    "    ll.append(str(c))\n",
    "    for sign in signs:\n",
    "        if len(info[sign]['name']) > i:\n",
    "            ll.append(info[sign]['name'][i])\n",
    "            ll.append(info[sign]['train'][i])\n",
    "            ll.append(info[sign]['test'][i])\n",
    "        else:\n",
    "            ll.append(' ')\n",
    "            ll.append(' ')\n",
    "            ll.append(' ')\n",
    "    ss = '  &  '.join([str(a) for a in ll])\n",
    "    ss_list.append(ss)\n",
    "    \n",
    "    \n",
    "#total\n",
    "ll = [' ']\n",
    "for sign in signs:\n",
    "    ll.append('Total')\n",
    "    ll.append(sum(info[sign]['train']))\n",
    "    ll.append(sum(info[sign]['test']))\n",
    "ss = '  &  '.join([str(a) for a in ll])\n",
    "ss_list.append(ss)\n",
    "    \n",
    "print('  \\\\\\\\  '.join(ss_list))"
   ]
  }
 ],
 "metadata": {
  "kernelspec": {
   "display_name": "Python 3 (ipykernel)",
   "language": "python",
   "name": "python3"
  },
  "language_info": {
   "codemirror_mode": {
    "name": "ipython",
    "version": 3
   },
   "file_extension": ".py",
   "mimetype": "text/x-python",
   "name": "python",
   "nbconvert_exporter": "python",
   "pygments_lexer": "ipython3",
   "version": "3.8.18"
  }
 },
 "nbformat": 4,
 "nbformat_minor": 5
}
