{
 "cells": [
  {
   "cell_type": "code",
   "execution_count": 28,
   "id": "fac93bfc",
   "metadata": {},
   "outputs": [],
   "source": [
    "from scipy.io import loadmat\n",
    "import numpy as np\n",
    "import pandas as pd\n",
    "import scipy.io as sio\n",
    "from sklearn.model_selection import train_test_split\n",
    "import random\n",
    "import tifffile as tiff\n",
    "import hdf5storage"
   ]
  },
  {
   "cell_type": "code",
   "execution_count": null,
   "id": "4e0851de",
   "metadata": {},
   "outputs": [],
   "source": [
    "sign = \"Indian\"\n",
    "te_label = tiff.imread('../data/%s/%s_TE.tiff' % (sign, sign))\n",
    "pred = hdf5storage.loadmat('../res/pred/pred_mat.mat')\n",
    "TE = te_label"
   ]
  },
  {
   "cell_type": "code",
   "execution_count": 30,
   "id": "6b7f6357",
   "metadata": {},
   "outputs": [
    {
     "data": {
      "text/plain": [
       "(349, 1905)"
      ]
     },
     "execution_count": 30,
     "metadata": {},
     "output_type": "execute_result"
    }
   ],
   "source": [
    "pred.shape"
   ]
  },
  {
   "cell_type": "code",
   "execution_count": 31,
   "id": "9b3c9e21",
   "metadata": {},
   "outputs": [],
   "source": [
    "te_label = TE.reshape(-1)\n",
    "te_pred = pred.reshape(-1)\n",
    "te_pred = te_pred[te_label>0]\n",
    "te_label = te_label[te_label>0]"
   ]
  },
  {
   "cell_type": "code",
   "execution_count": 32,
   "id": "72f63e06",
   "metadata": {},
   "outputs": [
    {
     "data": {
      "text/plain": [
       "((13527,), (13527,))"
      ]
     },
     "execution_count": 32,
     "metadata": {},
     "output_type": "execute_result"
    }
   ],
   "source": [
    "te_pred.shape, te_label.shape"
   ]
  },
  {
   "cell_type": "code",
   "execution_count": 33,
   "id": "a336ccef",
   "metadata": {},
   "outputs": [],
   "source": [
    "import sys\n",
    "sys.path.append('../hypercodes_for_diffusion/codes')\n",
    "import evaluation\n",
    "from utils import recorder"
   ]
  },
  {
   "cell_type": "code",
   "execution_count": 34,
   "id": "c148071a",
   "metadata": {},
   "outputs": [],
   "source": [
    "eval  = evaluation.HSIEvaluation({\"data\":{\"data_sign\":\"Houston\"}})\n"
   ]
  },
  {
   "cell_type": "code",
   "execution_count": 35,
   "id": "5db36197",
   "metadata": {},
   "outputs": [],
   "source": [
    "res = eval.eval(te_label, te_pred)\n",
    "recorder.record_eval(res)\n",
    "recorder.record_pred(pred)"
   ]
  },
  {
   "cell_type": "code",
   "execution_count": null,
   "id": "feebb5f0",
   "metadata": {},
   "outputs": [],
   "source": []
  },
  {
   "cell_type": "code",
   "execution_count": 36,
   "id": "e4657062",
   "metadata": {},
   "outputs": [
    {
     "name": "stdout",
     "output_type": "stream",
     "text": [
      "save record of ./HSI_GCN_Houston/Houston_GCN done!\n"
     ]
    }
   ],
   "source": [
    "recorder.to_file('./HSI_GCN_%s/%s_GCN' % (sign, sign))"
   ]
  }
 ],
 "metadata": {
  "kernelspec": {
   "display_name": "pytorch_gpu",
   "language": "python",
   "name": "python3"
  },
  "language_info": {
   "codemirror_mode": {
    "name": "ipython",
    "version": 3
   },
   "file_extension": ".py",
   "mimetype": "text/x-python",
   "name": "python",
   "nbconvert_exporter": "python",
   "pygments_lexer": "ipython3",
   "version": "3.8.15"
  },
  "vscode": {
   "interpreter": {
    "hash": "e69702b2e5b821ab2f4ac9c47a501d64d74eb5dfabbfd01f5fa2b4dd579f415c"
   }
  }
 },
 "nbformat": 4,
 "nbformat_minor": 5
}
