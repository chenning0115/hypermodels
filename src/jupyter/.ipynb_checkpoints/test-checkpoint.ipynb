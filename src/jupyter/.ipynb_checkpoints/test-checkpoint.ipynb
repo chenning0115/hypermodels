{
 "cells": [
  {
   "cell_type": "code",
   "execution_count": 3,
   "id": "1acb157e",
   "metadata": {},
   "outputs": [],
   "source": [
    "from scipy.io import loadmat\n",
    "import numpy as np\n",
    "import pandas as pd\n",
    "import scipy.io as sio\n",
    "from sklearn.model_selection import train_test_split\n",
    "import random\n",
    "import tifffile as tiff"
   ]
  },
  {
   "cell_type": "code",
   "execution_count": 4,
   "id": "214f1814",
   "metadata": {},
   "outputs": [],
   "source": [
    "data_sign = 'Pavia'\n",
    "train_num_per_class = 40\n",
    "data_path_prefix = '../../data'\n",
    "save_path = '../../data/%s/%s_40_split.mat' %(data_sign, data_sign)\n",
    "def load_data(data_sign):\n",
    "    if data_sign == \"Indian\":\n",
    "        data = sio.loadmat('%s/Indian_pines_corrected.mat' % data_path_prefix)['indian_pines_corrected']\n",
    "        labels = sio.loadmat('%s/Indian_pines_gt.mat' % data_path_prefix)['indian_pines_gt']\n",
    "    elif data_sign == \"Pavia\":\n",
    "        data = sio.loadmat('%s/PaviaU.mat' % data_path_prefix)['paviaU']\n",
    "        labels = sio.loadmat('%s/PaviaU_gt.mat' % data_path_prefix)['paviaU_gt'] \n",
    "    elif data_sign == \"Houston\":\n",
    "        data = sio.loadmat('%s/Houston.mat' % data_path_prefix)['img']\n",
    "        labels = sio.loadmat('%s/Houston_gt.mat' % data_path_prefix)['Houston_gt']\n",
    "    return data, labels"
   ]
  },
  {
   "cell_type": "code",
   "execution_count": 8,
   "id": "81e610df",
   "metadata": {},
   "outputs": [],
   "source": [
    "data,label = load_data(data_sign)"
   ]
  },
  {
   "cell_type": "code",
   "execution_count": 9,
   "id": "186a25e5",
   "metadata": {},
   "outputs": [
    {
     "data": {
      "text/plain": [
       "(610, 340, 103)"
      ]
     },
     "execution_count": 9,
     "metadata": {},
     "output_type": "execute_result"
    }
   ],
   "source": [
    "data.shape"
   ]
  }
 ],
 "metadata": {
  "kernelspec": {
   "display_name": "Python 3 (ipykernel)",
   "language": "python",
   "name": "python3"
  },
  "language_info": {
   "codemirror_mode": {
    "name": "ipython",
    "version": 3
   },
   "file_extension": ".py",
   "mimetype": "text/x-python",
   "name": "python",
   "nbconvert_exporter": "python",
   "pygments_lexer": "ipython3",
   "version": "3.9.13"
  }
 },
 "nbformat": 4,
 "nbformat_minor": 5
}
